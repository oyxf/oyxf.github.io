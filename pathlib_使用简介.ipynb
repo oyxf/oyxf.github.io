{
  "nbformat": 4,
  "nbformat_minor": 0,
  "metadata": {
    "colab": {
      "name": "pathlib 使用简介",
      "version": "0.3.2",
      "provenance": [],
      "collapsed_sections": [],
      "include_colab_link": true
    },
    "kernelspec": {
      "name": "python3",
      "display_name": "Python 3"
    },
    "accelerator": "GPU"
  },
  "cells": [
    {
      "cell_type": "markdown",
      "metadata": {
        "id": "view-in-github",
        "colab_type": "text"
      },
      "source": [
        "[View in Colaboratory](https://colab.research.google.com/github/oyxf/oyxf.github.io/blob/master/pathlib_%E4%BD%BF%E7%94%A8%E7%AE%80%E4%BB%8B.ipynb)"
      ]
    },
    {
      "metadata": {
        "id": "E1IZZ1PsSiDy",
        "colab_type": "text"
      },
      "cell_type": "markdown",
      "source": [
        "###尽管python内置库os中提供了路径处理函数，但是使用起来依然有很多不方便的地方，且不能满足一些个性化的需求，pathlib是一个更好的选择。\n",
        "参考文档【1】：https://www.cnblogs.com/sigai/p/8074329.html \n",
        "参考文档【2】：https://docs.python.org/3/library/pathlib.html#module-pathlib"
      ]
    },
    {
      "metadata": {
        "id": "61oyP-yXSnp4",
        "colab_type": "code",
        "colab": {
          "base_uri": "https://localhost:8080/",
          "height": 34
        },
        "outputId": "be3ecb73-b2c2-4bf5-b09b-987891835421"
      },
      "cell_type": "code",
      "source": [
        "#@title 安装并导入pathlib库\n",
        "!pip install pathlib\n",
        "from pathlib import *"
      ],
      "execution_count": 233,
      "outputs": [
        {
          "output_type": "stream",
          "text": [
            "Requirement already satisfied: pathlib in /usr/local/lib/python3.6/dist-packages (1.0.1)\r\n"
          ],
          "name": "stdout"
        }
      ]
    },
    {
      "metadata": {
        "id": "y3E8pa6bTt-S",
        "colab_type": "code",
        "colab": {
          "base_uri": "https://localhost:8080/",
          "height": 119
        },
        "outputId": "cd05469b-5826-43fe-e71d-3a564b7d7f48"
      },
      "cell_type": "code",
      "source": [
        "#@title  Path.iterdir()　　#遍历目录的子目录或者文件\n",
        "from pathlib import *\n",
        "p = Path('.')\n",
        "[x for x in p.iterdir() if x.is_dir()]"
      ],
      "execution_count": 235,
      "outputs": [
        {
          "output_type": "execute_result",
          "data": {
            "text/plain": [
              "[PosixPath('datalab'),\n",
              " PosixPath('.local'),\n",
              " PosixPath('.cache'),\n",
              " PosixPath('.forever'),\n",
              " PosixPath('.config'),\n",
              " PosixPath('.ipython')]"
            ]
          },
          "metadata": {
            "tags": []
          },
          "execution_count": 235
        }
      ]
    },
    {
      "metadata": {
        "id": "N75czNqLXvGi",
        "colab_type": "code",
        "colab": {
          "base_uri": "https://localhost:8080/",
          "height": 34
        },
        "outputId": "e6364814-dd91-4282-fc26-48c57c2d5033"
      },
      "cell_type": "code",
      "source": [
        "#@title Path.is_dir()/Path.exists()       #判断是否是目录/#判断路径是否存在\n",
        "q= Path('.')\n",
        "q.exists()\n",
        "\n",
        "p=Path('.')\n",
        "p.is_dir()"
      ],
      "execution_count": 236,
      "outputs": [
        {
          "output_type": "execute_result",
          "data": {
            "text/plain": [
              "True"
            ]
          },
          "metadata": {
            "tags": []
          },
          "execution_count": 236
        }
      ]
    },
    {
      "metadata": {
        "id": "dYA0vL07ecCb",
        "colab_type": "code",
        "colab": {}
      },
      "cell_type": "code",
      "source": [
        "#@title Path.glob过滤目录(返回生成器)\n",
        "list(Path(\"/usr/local/lib/python3.6/dist-packages/pip\").glob('**/*.py'))\n"
      ],
      "execution_count": 0,
      "outputs": []
    },
    {
      "metadata": {
        "id": "T2nVLbjNY-Qs",
        "colab_type": "code",
        "colab": {
          "base_uri": "https://localhost:8080/",
          "height": 34
        },
        "outputId": "e20c0636-6eca-453c-aa06-a855f1d6b1f5"
      },
      "cell_type": "code",
      "source": [
        "#@title Path.resolve()　　#返回绝对路径  --------  /   # 拼接路径(目录中进行导航-官网说法)\n",
        "p = Path('/etc')\n",
        "q = p / 'init.d' / 'reboot'\n",
        "q\n",
        "q.resolve()"
      ],
      "execution_count": 238,
      "outputs": [
        {
          "output_type": "execute_result",
          "data": {
            "text/plain": [
              "PosixPath('/etc/init.d/reboot')"
            ]
          },
          "metadata": {
            "tags": []
          },
          "execution_count": 238
        }
      ]
    },
    {
      "metadata": {
        "id": "hfu32GrWguxM",
        "colab_type": "code",
        "colab": {
          "base_uri": "https://localhost:8080/",
          "height": 51
        },
        "outputId": "850b6a7e-46fc-4935-c903-533edf515f48"
      },
      "cell_type": "code",
      "source": [
        "#@title Path.open()　　#打开文件(支持with)\n",
        "q=Path('/usr/local/lib/python3.6/dist-packages/pip/_internal/commands/configuration.py') \n",
        "with q.open() as f:\n",
        "    print(f.readline())\n",
        " "
      ],
      "execution_count": 239,
      "outputs": [
        {
          "output_type": "stream",
          "text": [
            "import logging\n",
            "\n"
          ],
          "name": "stdout"
        }
      ]
    },
    {
      "metadata": {
        "id": "NEA_S6eLq8EX",
        "colab_type": "code",
        "colab": {
          "base_uri": "https://localhost:8080/",
          "height": 34
        },
        "outputId": "b5f4ba78-639c-458d-926c-66f7604e6abd"
      },
      "cell_type": "code",
      "source": [
        "#@title Path.parts　　#分割路径 类似os.path.split(), 返回元组\n",
        "p = PurePath('/usr/bin/python3')\n",
        "p.parts\n",
        "p = PureWindowsPath('c:/Program Files/PSF')\n",
        "p.parts"
      ],
      "execution_count": 240,
      "outputs": [
        {
          "output_type": "execute_result",
          "data": {
            "text/plain": [
              "('c:\\\\', 'Program Files', 'PSF')"
            ]
          },
          "metadata": {
            "tags": []
          },
          "execution_count": 240
        }
      ]
    },
    {
      "metadata": {
        "id": "zmcOpY4QtZve",
        "colab_type": "code",
        "colab": {
          "base_uri": "https://localhost:8080/",
          "height": 34
        },
        "outputId": "7d1813bb-6b8a-4525-90ad-f982934fa82f"
      },
      "cell_type": "code",
      "source": [
        "#@title Path.root　　#返回路径的根目录\n",
        "PureWindowsPath('c:/Program Files/').root\n",
        "\n",
        "PureWindowsPath('c:Program Files/').root\n",
        "\n",
        "PurePosixPath('/etc').root"
      ],
      "execution_count": 241,
      "outputs": [
        {
          "output_type": "execute_result",
          "data": {
            "text/plain": [
              "'/'"
            ]
          },
          "metadata": {
            "tags": []
          },
          "execution_count": 241
        }
      ]
    },
    {
      "metadata": {
        "id": "CnPxmEpmtrln",
        "colab_type": "code",
        "colab": {
          "base_uri": "https://localhost:8080/",
          "height": 34
        },
        "outputId": "f3681838-4323-4005-eccf-dc217d7ab570"
      },
      "cell_type": "code",
      "source": [
        "#@title 　Path.parents　 #返回所有上级目录的列表 需要注意与Path.parent区别\n",
        "p = PureWindowsPath('c:/foo/bar/setup.py')\n",
        "p.parents[0]\n",
        "p.parents[1]\n",
        "p.parents[2]\n",
        "\n",
        "p.parent "
      ],
      "execution_count": 242,
      "outputs": [
        {
          "output_type": "execute_result",
          "data": {
            "text/plain": [
              "PureWindowsPath('c:/foo/bar')"
            ]
          },
          "metadata": {
            "tags": []
          },
          "execution_count": 242
        }
      ]
    },
    {
      "metadata": {
        "id": "pgwtFuUk06Fo",
        "colab_type": "code",
        "colab": {}
      },
      "cell_type": "code",
      "source": [
        "#@title Path.with_name()　　#更改路径名称, 更改最后一级路径名\n",
        "p = PureWindowsPath('c:/Downloads/pathlib.tar.gz')\n",
        "p.with_name('setup.py')\n",
        "\n",
        "p = PureWindowsPath('c:/')\n",
        "p.with_name('setup.py')\n"
      ],
      "execution_count": 0,
      "outputs": []
    },
    {
      "metadata": {
        "id": "ODE14qcv1Rm4",
        "colab_type": "code",
        "colab": {
          "base_uri": "https://localhost:8080/",
          "height": 34
        },
        "outputId": "8e0c6eea-2156-4aa1-d750-5383e9db13c6"
      },
      "cell_type": "code",
      "source": [
        "#@title  Path.with_suffix()/Path.with_suffixes()　　　#更改路径后缀 \n",
        "PurePosixPath('my/library/setup.py').suffix\n",
        "PurePosixPath('my/library.tar.gz').suffix\n",
        "PurePosixPath('my/library').suffix\n",
        "\n",
        "PurePosixPath('my/library.gz.tar.gar').suffixes\n",
        "PurePosixPath('my/library.tar.gz').suffixes\n",
        "PurePosixPath('my/library').suffixes"
      ],
      "execution_count": 245,
      "outputs": [
        {
          "output_type": "execute_result",
          "data": {
            "text/plain": [
              "[]"
            ]
          },
          "metadata": {
            "tags": []
          },
          "execution_count": 245
        }
      ]
    },
    {
      "metadata": {
        "id": "EmG7dG0N2AgC",
        "colab_type": "code",
        "colab": {
          "base_uri": "https://localhost:8080/",
          "height": 34
        },
        "outputId": "8a1ca0da-13ef-480f-e84e-b4c43c663778"
      },
      "cell_type": "code",
      "source": [
        "#@title Path.joinpath()　　#拼接路径\n",
        "PurePosixPath('/etc').joinpath('passwd')\n",
        "\n",
        "PurePosixPath('/etc').joinpath(PurePosixPath('passwd'))\n",
        "\n",
        "PurePosixPath('/etc').joinpath('init.d', 'apache2')\n",
        "\n",
        "PureWindowsPath('c:').joinpath('/Program Files')\n",
        "\n"
      ],
      "execution_count": 246,
      "outputs": [
        {
          "output_type": "execute_result",
          "data": {
            "text/plain": [
              "PureWindowsPath('c:/Program Files')"
            ]
          },
          "metadata": {
            "tags": []
          },
          "execution_count": 246
        }
      ]
    },
    {
      "metadata": {
        "id": "a9Fl-AJu2SLZ",
        "colab_type": "code",
        "colab": {}
      },
      "cell_type": "code",
      "source": [
        "#@title Path.relative_to()　　#计算相对路径\n",
        "p = PurePosixPath('/etc/passwd')\n",
        "p.relative_to('/')\n",
        "p.relative_to('/etc')\n",
        "p.relative_to('/usr')\n"
      ],
      "execution_count": 0,
      "outputs": []
    },
    {
      "metadata": {
        "id": "T_lto3Gs2isQ",
        "colab_type": "code",
        "colab": {
          "base_uri": "https://localhost:8080/",
          "height": 34
        },
        "outputId": "4430cd42-ca2a-4fa8-a1d4-ca8a3d15e796"
      },
      "cell_type": "code",
      "source": [
        "#@title 测试路径:  Path.match() #测试路径是否符合pattern|Path.is_absolute()#是否是绝对路径\n",
        "p=Path('/usr/local/lib/python3.6/dist-packages/pip/_internal/commands/configuration.py') \n",
        "p.match(\"commands\")\n",
        "p.match(\"*/*/*py\")\n",
        "p.is_absolute()\n",
        "p=Path(\"./Test.txt\")\n",
        "p.is_absolute()"
      ],
      "execution_count": 248,
      "outputs": [
        {
          "output_type": "execute_result",
          "data": {
            "text/plain": [
              "False"
            ]
          },
          "metadata": {
            "tags": []
          },
          "execution_count": 248
        }
      ]
    },
    {
      "metadata": {
        "id": "UEHTlbLS4J8J",
        "colab_type": "code",
        "colab": {
          "base_uri": "https://localhost:8080/",
          "height": 131
        },
        "outputId": "ac072f77-7cf5-425f-ec33-c314cb6fc9f9"
      },
      "cell_type": "code",
      "source": [
        "#@title 其他方法:Path.cwd()#返回当前目录的路径对象|||Path.home() #返回当前用户的home路径对象|||Path.stat()#返回路径信息, 同os.stat()||Path.chmod()　　#更改路径权限, 类似os.chmod()|||Path.expanduser()#展开~返回完整路径对象|||Path.mkdir()#创建目录|||Path.rename()　#重命名路径|||Path.rglob()　#递归遍历所有子目录的文件\n",
        "\n",
        "Path.cwd()\n",
        "\n",
        "Path.home()\n",
        "\n",
        "p=Path('/usr/local/lib/python3.6/dist-packages/pip/_internal/commands/configuration.py') \n",
        "p.stat()\n",
        "p.stat().st_size\n",
        "\n",
        "p=Path('/cogent/')\n",
        "p.expanduser('~')\n",
        "Path.is_file()\n",
        "Path.is_symlink()\n",
        "Path.owner()\n",
        "Path.mkdir()　　\n",
        "Path.rmdir()\n",
        "Path.rename()　　\n",
        "Path.rglob()\n",
        "Path.symlink_to(target, target_is_directory=False)\n",
        "Path.unlink()\n",
        "Path.touch(mode=0o666, exist_ok=True)¶\n"
      ],
      "execution_count": 249,
      "outputs": [
        {
          "output_type": "error",
          "ename": "SyntaxError",
          "evalue": "ignored",
          "traceback": [
            "\u001b[0;36m  File \u001b[0;32m\"<ipython-input-249-cd71ec2318ac>\"\u001b[0;36m, line \u001b[0;32m15\u001b[0m\n\u001b[0;31m    Path.mkdir()\u001b[0m\n\u001b[0m                　^\u001b[0m\n\u001b[0;31mSyntaxError\u001b[0m\u001b[0;31m:\u001b[0m invalid character in identifier\n"
          ]
        }
      ]
    }
  ]
}