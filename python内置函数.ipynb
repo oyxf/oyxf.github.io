{
  "nbformat": 4,
  "nbformat_minor": 0,
  "metadata": {
    "colab": {
      "name": "python内置函数.ipynb",
      "version": "0.3.2",
      "provenance": [],
      "include_colab_link": true
    },
    "kernelspec": {
      "name": "python3",
      "display_name": "Python 3"
    }
  },
  "cells": [
    {
      "cell_type": "markdown",
      "metadata": {
        "id": "view-in-github",
        "colab_type": "text"
      },
      "source": [
        "[View in Colaboratory](https://colab.research.google.com/github/oyxf/oyxf.github.io/blob/master/python%E5%86%85%E7%BD%AE%E5%87%BD%E6%95%B0.ipynb)"
      ]
    },
    {
      "metadata": {
        "id": "qdQcsbArnE5q",
        "colab_type": "code",
        "colab": {
          "base_uri": "https://localhost:8080/",
          "height": 34
        },
        "outputId": "aed45271-53e4-41cd-dbbf-0b0fbaab51ba"
      },
      "cell_type": "code",
      "source": [
        "#@title 1. abs() 取绝对值 \n",
        "abs(-10)\t"
      ],
      "execution_count": 3,
      "outputs": [
        {
          "output_type": "execute_result",
          "data": {
            "text/plain": [
              "10"
            ]
          },
          "metadata": {
            "tags": []
          },
          "execution_count": 3
        }
      ]
    },
    {
      "metadata": {
        "id": "9MpQ9JJ4o2kj",
        "colab_type": "code",
        "colab": {
          "base_uri": "https://localhost:8080/",
          "height": 34
        },
        "outputId": "655dbaf2-92ee-4685-a85f-d965f5cfeffd"
      },
      "cell_type": "code",
      "source": [
        "#@title 2.all(iterable)  用于判断给定的可迭代参数 iterable 中的所有元素是否都为 TRUE，如果是返回 True，否则返回 False。元素除了是 0、空、FALSE 外都算 TRUE\n",
        "all(['a', 'b', 'c', 'd'])  # 列表list，元素都不为空或0\n",
        "all(['a', 'b', '', 'd'])   # 列表list，存在一个为空的元素\n",
        "all([0, 1,2, 3])          # 列表list，存在一个为0的元素\n",
        "all(('a', 'b', 'c', 'd'))  # 元组tuple，元素都不为空或0\n",
        "all(('a', 'b', '', 'd'))   # 元组tuple，存在一个为空的元素\n",
        "all((0, 1, 2, 3))          # 元组tuple，存在一个为0的元素\n",
        "all([])             # 空列表\n",
        "all(())             # 空元组\n"
      ],
      "execution_count": 28,
      "outputs": [
        {
          "output_type": "execute_result",
          "data": {
            "text/plain": [
              "True"
            ]
          },
          "metadata": {
            "tags": []
          },
          "execution_count": 28
        }
      ]
    },
    {
      "metadata": {
        "id": "5jePK7Ubq0nl",
        "colab_type": "code",
        "colab": {
          "base_uri": "https://localhost:8080/",
          "height": 34
        },
        "outputId": "eb76864a-c88d-4cd0-a97e-d69ae0dd0fe8"
      },
      "cell_type": "code",
      "source": [
        "#@title 3.any(iterable) 与all（）类似，iterable的任何元素都为False、0，''，或者iterable全为空，则any(iterable)为False，也就是说所有的iterable都为'假'，则any(iterable)为False，\"全‘假’为False，有‘真’为True\"\n",
        "any(['a', 'b', 'c', 'd'])\n",
        "any(['a', 'b', '', 'd'])\n",
        "any([0])\n",
        "any(('a', 'b', 'c', 'd'))\n",
        "any(('a', 'b', '', 'd'))\n",
        "any((0,1))\n",
        "any([])\n",
        "any(())\n"
      ],
      "execution_count": 26,
      "outputs": [
        {
          "output_type": "execute_result",
          "data": {
            "text/plain": [
              "False"
            ]
          },
          "metadata": {
            "tags": []
          },
          "execution_count": 26
        }
      ]
    },
    {
      "metadata": {
        "id": "NL1RvJWorwkg",
        "colab_type": "code",
        "colab": {
          "base_uri": "https://localhost:8080/",
          "height": 34
        },
        "outputId": "ddbab0f4-7e8c-4b14-ed7c-642d79ed648b"
      },
      "cell_type": "code",
      "source": [
        "#@title 4.ascii() 返回一个可打印的对象字符串方式表示。当遇到非ASCII码时，就会输出\\x，\\u或\\U等字符来表示。\n",
        "\n",
        "print(ascii(10), ascii(9000000), ascii('b\\31'), ascii('0x\\1000'))\n"
      ],
      "execution_count": 16,
      "outputs": [
        {
          "output_type": "stream",
          "text": [
            "10 9000000 'b\\x19' '0x@0'\n"
          ],
          "name": "stdout"
        }
      ]
    },
    {
      "metadata": {
        "id": "SbkrQEbMuybq",
        "colab_type": "code",
        "colab": {
          "base_uri": "https://localhost:8080/",
          "height": 34
        },
        "outputId": "2dd3411a-df33-439f-e1b9-24e5769e443d"
      },
      "cell_type": "code",
      "source": [
        "#@title 5.bin() 返回一个整数int 或者长整数long int 的二进制表示\n",
        "bin(10)"
      ],
      "execution_count": 53,
      "outputs": [
        {
          "output_type": "execute_result",
          "data": {
            "text/plain": [
              "'0b1010'"
            ]
          },
          "metadata": {
            "tags": []
          },
          "execution_count": 53
        }
      ]
    },
    {
      "metadata": {
        "id": "yaL2ADQRvO21",
        "colab_type": "code",
        "colab": {
          "base_uri": "https://localhost:8080/",
          "height": 34
        },
        "outputId": "8b6f177f-6d2b-43c9-d188-8a0d224fd2ad"
      },
      "cell_type": "code",
      "source": [
        "#@title 6. Class bool()返回一个布尔值，False or True; 参数如果缺省，则返回False\n",
        "#传入布尔值时原值返回\n",
        "bool(True) \n",
        "bool(False)\n",
        "\n",
        "#传入字符串时，空字符串返回False，否则返回True\n",
        "bool(\"\") \n",
        "bool(\"A\")\n",
        "\n",
        "#传入数值时，0值返回False，否则返回True\n",
        "bool(0)\n",
        "bool(1)\n",
        "\n",
        "#传入元组、列表、字典等对象时，元素个数为空返回False，否则返回True\n",
        "bool((1,2,3))\n",
        "bool(())\n",
        "\n",
        "bool([1,2,3])\n",
        "bool([])\n",
        "\n",
        "bool({\"A\":2,\"B\":3})\n",
        "bool({})"
      ],
      "execution_count": 41,
      "outputs": [
        {
          "output_type": "execute_result",
          "data": {
            "text/plain": [
              "False"
            ]
          },
          "metadata": {
            "tags": []
          },
          "execution_count": 41
        }
      ]
    },
    {
      "metadata": {
        "id": "UxDgOr0NxxAu",
        "colab_type": "code",
        "colab": {
          "base_uri": "https://localhost:8080/",
          "height": 34
        },
        "outputId": "efb57db6-24ac-48ed-8632-931d9a5cd4c8"
      },
      "cell_type": "code",
      "source": [
        "#@title 7.class bytearray([source[, encoding[, errors]]]) 返回一个新字节数组。这个数组里的元素是可变的，并且每个元素的值范围: 0 <= x < 256。\n",
        "参数说明：\n",
        "如果 source 为整数，则返回一个长度为 source 的初始化数组；\n",
        "如果 source 为字符串，则按照指定的 encoding 将字符串转换为字节序列；\n",
        "如果 source 为可迭代类型，则元素必须为[0 ,255] 中的整数；\n",
        "如果 source 为与 buffer 接口一致的对象，则此对象也可以被用于初始化 bytearray。\n",
        "如果没有输入任何参数，默认就是初始化数组为0个元素。\n",
        "a=bytearray(3) \n",
        "a\n",
        "a[0]\n",
        "a[1]\n",
        "a[2]\n",
        "\n",
        "\n",
        "b=bytearray('abc','utf8')\n",
        "b[1]\n",
        "b[2]\n",
        "  \n",
        "c = bytearray([1, 2, 3,255])\n",
        "c\n",
        "c[0]\n",
        "  \n",
        "c[1]\n",
        "  \n",
        "c[2]\n",
        "\n",
        "c[3]"
      ],
      "execution_count": 69,
      "outputs": [
        {
          "output_type": "execute_result",
          "data": {
            "text/plain": [
              "255"
            ]
          },
          "metadata": {
            "tags": []
          },
          "execution_count": 69
        }
      ]
    },
    {
      "metadata": {
        "id": "MmXWvwAH33gD",
        "colab_type": "code",
        "colab": {
          "base_uri": "https://localhost:8080/",
          "height": 34
        },
        "outputId": "9d149a02-95c0-49d1-90eb-66dc81409a98"
      },
      "cell_type": "code",
      "source": [
        "#@title 8.class bytes([source[, encoding[, errors]]])  Python 3最重要的新特性大概要算是对文本和二进制数据作了更为清晰的区分。文本总是Unicode，由str类型表示，二进制数据则由bytes类型表示。Python 3不会以任意隐式的方式混用str和bytes，正是这使得两者的区分特别清晰。你不能拼接字符串和字节包，也无法在字节包里搜索字符串（反之亦然），也不能将字符串传入参数为字节包的函数（反之亦然）.\n",
        "\n",
        "bytes([1,2,3,4,5,6,7,8,9])\n",
        "bytes(\"python\", 'ascii') # 字符串，编码\n",
        "\n",
        "设置一个原始的字符串\n",
        "website = 'http://www.169it.com/os'\n",
        "type(website)\n",
        "website\n",
        "\n",
        "按utf-8的方式编码，转成bytes\n",
        "\n",
        "website_bytes_utf8 = website.encode(encoding=\"utf-8\")\n",
        "type(website_bytes_utf8)\n",
        "website_bytes_utf8\n",
        "\n",
        "\n",
        "按gb2312的方式编码，转成bytes\n",
        "website_bytes_gb2312 = website.encode(encoding=\"gb2312\")\n",
        "type(website_bytes_gb2312)\n",
        "website_bytes_gb2312\n",
        "\n",
        "解码成string，默认不填\n",
        "website_string = website_bytes_utf8.decode()\n",
        "type(website_string)\n",
        "website_string\n",
        "\n",
        "解码成string，使用gb2312的方式\n",
        "\n",
        "website_string_gb2312 = website_bytes_gb2312.decode(\"gb2312\")\n",
        "type(website_string_gb2312)\n",
        "website_string_gb2312\n"
      ],
      "execution_count": 76,
      "outputs": [
        {
          "output_type": "execute_result",
          "data": {
            "text/plain": [
              "bytes"
            ]
          },
          "metadata": {
            "tags": []
          },
          "execution_count": 76
        }
      ]
    },
    {
      "metadata": {
        "id": "awRMwaLD65fW",
        "colab_type": "code",
        "colab": {
          "base_uri": "https://localhost:8080/",
          "height": 34
        },
        "outputId": "95272726-06b4-4e0b-9b34-3eaf2a570457"
      },
      "cell_type": "code",
      "source": [
        "#@title 9.callable()  检查对象object是否可调用。如果返回True，object仍然可能调用失败；但如果返回False，调用对象ojbect绝对不会成功。\n",
        "callable(0)\n",
        "callable(\"mystring\")\n",
        "def add(a, b):\n",
        "  return a + b\n",
        "callable(add)\n",
        "\n",
        "class A:\n",
        "  def method(self):\n",
        "    return 0\n",
        "\n",
        "callable(A)\n",
        "\n",
        "a = A()\n",
        "callable(a)\n",
        "False"
      ],
      "execution_count": 81,
      "outputs": [
        {
          "output_type": "execute_result",
          "data": {
            "text/plain": [
              "True"
            ]
          },
          "metadata": {
            "tags": []
          },
          "execution_count": 81
        }
      ]
    },
    {
      "metadata": {
        "id": "LxFcNsVuoTRQ",
        "colab_type": "code",
        "colab": {}
      },
      "cell_type": "code",
      "source": [
        "#@title 默认标题文本\n",
        "\n",
        "\n",
        "chr()\n",
        "classmethod()\n",
        "compile()\n",
        "complex()\n",
        "delattr()\n",
        "help()\n",
        "hex()\n",
        "id()\n",
        "input()\n",
        "int()\n",
        "isinstance()\n",
        "issubclass()\n",
        "iter()\n",
        "len()\n",
        "list()\n",
        "locals()\n",
        "map()\n",
        "max()\n",
        "memoryview()\n",
        "dict()\n",
        "dir()\n",
        "divmod()\n",
        "enumerate()\n",
        "eval()\n",
        "exec()\n",
        "filter()\n",
        "float()\n",
        "format()\n",
        "frozenset()\n",
        "getattr()\n",
        "globals()\n",
        "hasattr()\n",
        "hash()\n",
        "next()\n",
        "object()\n",
        "oct()\n",
        "open()\n",
        "ord()\n",
        "pow()\n",
        "print()\n",
        "property()\n",
        "range()\n",
        "repr()\n",
        "reversed()\n",
        "round()\n",
        "set()\n",
        "slice()\n",
        "sorted()\n",
        "staticmethod()\n",
        "str()\n",
        "sum()\n",
        "super()\n",
        "tuple()\n",
        "type()\n",
        "vars()\n",
        "zip()\n",
        "__import__()\n"
      ],
      "execution_count": 0,
      "outputs": []
    },
    {
      "metadata": {
        "id": "tgwJH2LI32aj",
        "colab_type": "code",
        "colab": {}
      },
      "cell_type": "code",
      "source": [
        ""
      ],
      "execution_count": 0,
      "outputs": []
    }
  ]
}